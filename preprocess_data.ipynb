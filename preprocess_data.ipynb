{
 "cells": [
  {
   "cell_type": "markdown",
   "metadata": {},
   "source": [
    "# setup"
   ]
  },
  {
   "cell_type": "code",
   "execution_count": null,
   "metadata": {},
   "outputs": [],
   "source": [
    "%matplotlib inline\n",
    "import eelbrain as eel\n",
    "import numpy as np\n",
    "import scipy, pathlib, importlib, mne, time, os, sys\n",
    "from tqdm import tqdm\n",
    "import matplotlib.pyplot as plt\n",
    "import preprocessing as pre\n",
    "import models as md\n",
    "import plotting\n",
    "from pathnames import *\n",
    "importlib.reload(pre)\n",
    "importlib.reload(md)\n",
    "importlib.reload(plotting)\n",
    "\n",
    "mne.set_log_level(verbose='error')\n",
    "verbose = False"
   ]
  },
  {
   "cell_type": "markdown",
   "metadata": {},
   "source": [
    "# Load EEG data and preprocess"
   ]
  },
  {
   "cell_type": "code",
   "execution_count": null,
   "metadata": {},
   "outputs": [],
   "source": [
    "ch = 'Cz'\n",
    "refs = ['EXG1', 'EXG2'] # mastoids\n",
    "\n",
    "preprocessed_path.mkdir(exist_ok=True, parents=True)\n",
    "rewrite_output = False # set to true to overwrite subjects that have already been processed\n",
    "subjects = [f'part_{i:03d}' for i in range(1, 26)]\n",
    "\n",
    "for stimtype in ['in', 's']: # 'in': inserts, 's': sound-field\n",
    "    speechfiles = [f'{stimtype}_speech_{i}a' for i in range(1,5)] + [f'{stimtype}_speech_{i}b' for i in range(1,5)]\n",
    "    clickfile = f'{stimtype}_clicks_4c'\n",
    "\n",
    "    print(speechfiles)\n",
    "\n",
    "    # loop over subjects\n",
    "    for subject in tqdm(subjects):\n",
    "        filename = preprocessed_path / f'{subject}_{stimtype}_speech_{ch}_reref_ergs.pkl'\n",
    "        if filename.exists() and not rewrite_output:\n",
    "            print('skipping', subject, filename)\n",
    "            continue\n",
    "\n",
    "        subject_folder = rawdata_path / subject\n",
    "\n",
    "        # speech files\n",
    "        eegs = [] # eeg\n",
    "        ergs = [] # Erg\n",
    "        eegfs = [] # eeg file names\n",
    "        fp_ergs = [] # first peak time in Erg channel (eeg and Erg start after this)\n",
    "        for eegf in speechfiles:\n",
    "            if subject == 'part_018' and eegf == 'in_speech_4b': # part_018 has missing data error in trial 4b\n",
    "                continue\n",
    "            if subject == 'part_024' and eegf in ['in_speech_2a', 'in_speech_4b']: # part_024 has flat ERG channels for trials 2a and 4b\n",
    "                continue\n",
    "            eegfile = subject_folder / f'P{subject[-3:]}C{eegf}.bdf'\n",
    "            if not eegfile.exists():\n",
    "                print(f'FILE {eegfile.stem} NOT FOUND')\n",
    "                continue\n",
    "            # load EEG, reref and extract channels\n",
    "            eeg_a, erg_a, erg_start = pre.load_eeg(eegfile, ch=ch, refs=refs)\n",
    "            eegs.append(eeg_a)\n",
    "            eegfs.append(eegfile.stem)\n",
    "            ergs.append(erg_a)\n",
    "            fp_ergs.append(erg_start)\n",
    "        eel.save.pickle(dict(eegs=eegs, filenames=eegfs, fp_ergs=fp_ergs, ergs=ergs), preprocessed_path / f'{subject}_{stimtype}_speech_{ch}_reref_ergs.pkl')\n",
    "\n",
    "        # click file\n",
    "        eegfile = rawdata_path / subject / f'P{subject[-3:]}C{stimtype}_clicks_4c.bdf'\n",
    "        eeg_a, erg_a, erg_start = pre.load_eeg(eegfile, ch=ch, refs=refs) # preprocessing\n",
    "        eel.save.pickle(dict(eeg=eeg_a, erg=erg_a, erg_start=erg_start), preprocessed_path / f'{subject}_{stimtype}_clicks_{ch}_reref_{\"\".join(refs)}.pkl')\n",
    "\n",
    "        # also load io clicks\n",
    "        if stimtype=='in': \n",
    "            eegfile = rawdata_path / subject / f'P{subject[-3:]}Cio_clicks_4c.bdf'\n",
    "            eeg_a, erg_a, erg_start = pre.load_eeg(eegfile)\n",
    "            eel.save.pickle(dict(eeg=eeg_a, erg=erg_a, erg_start=erg_start), preprocessed_path / f'{subject}_io_clicks_{ch}_reref_{\"\".join(refs)}.pkl')"
   ]
  }
 ],
 "metadata": {
  "language_info": {
   "name": "python"
  }
 },
 "nbformat": 4,
 "nbformat_minor": 2
}
